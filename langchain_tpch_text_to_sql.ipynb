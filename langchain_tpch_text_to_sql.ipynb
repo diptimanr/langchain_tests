{
 "cells": [
  {
   "cell_type": "code",
   "execution_count": null,
   "id": "9ae8e950-d5d3-4c66-b40f-362756bdf76b",
   "metadata": {},
   "outputs": [],
   "source": [
    "import os\n",
    "os.environ[\"OPENAI_API_KEY\"] = \"<YOUR_OPENAI_API_KEY>\""
   ]
  },
  {
   "cell_type": "code",
   "execution_count": null,
   "id": "8b4c6160-4d7f-49dc-99bb-a913daca695e",
   "metadata": {},
   "outputs": [],
   "source": [
    "from langchain.agents.agent_toolkits import SQLDatabaseToolkit\n",
    "from langchain.sql_database import SQLDatabase\n",
    "from langchain.agents import create_sql_agent\n",
    "from langchain.agents import AgentExecutor\n",
    "from langchain.chat_models import ChatOpenAI"
   ]
  },
  {
   "cell_type": "code",
   "execution_count": null,
   "id": "396f4f43-6a69-4921-b8fd-aed18fba4b9b",
   "metadata": {},
   "outputs": [],
   "source": [
    "db = SQLDatabase.from_uri(\"sqlite:///D:/sw/sqlite/TPC-H.db\")"
   ]
  },
  {
   "cell_type": "code",
   "execution_count": null,
   "id": "764df15c-6a9a-4f44-b754-8f5ed7f58979",
   "metadata": {},
   "outputs": [],
   "source": [
    "llm = ChatOpenAI(model_name=\"gpt-3.5-turbo\")"
   ]
  },
  {
   "cell_type": "code",
   "execution_count": null,
   "id": "091fd995-4414-41fd-97f6-3a3200523fd3",
   "metadata": {},
   "outputs": [],
   "source": [
    "toolkit = SQLDatabaseToolkit(db=db, llm=llm)\n",
    "\n",
    "agent_executor = create_sql_agent(\n",
    "    llm = llm,\n",
    "    toolkit = toolkit,\n",
    "    verbose = True\n",
    ")"
   ]
  },
  {
   "cell_type": "code",
   "execution_count": null,
   "id": "96ca8f63-8742-4c5b-9baf-005e1381b47a",
   "metadata": {},
   "outputs": [],
   "source": [
    "agent_executor.run(\"Describe the orders table\")"
   ]
  },
  {
   "cell_type": "code",
   "execution_count": null,
   "id": "6a9805c4-f23d-4490-90de-7d7d1c2361f9",
   "metadata": {},
   "outputs": [],
   "source": [
    "agent_executor.run(\"find the top unshipped orders with the highest value\")"
   ]
  },
  {
   "cell_type": "code",
   "execution_count": null,
   "id": "2b3ae479-efcd-43b6-b233-5b978546b5f9",
   "metadata": {},
   "outputs": [],
   "source": [
    "agent_executor.run(\"count the number of orders ordered in a given quarter of a given year in which at least one lineitem was received by the customer later than its committed date.\")"
   ]
  }
 ],
 "metadata": {
  "kernelspec": {
   "display_name": "Python 3 (ipykernel)",
   "language": "python",
   "name": "python3"
  },
  "language_info": {
   "codemirror_mode": {
    "name": "ipython",
    "version": 3
   },
   "file_extension": ".py",
   "mimetype": "text/x-python",
   "name": "python",
   "nbconvert_exporter": "python",
   "pygments_lexer": "ipython3",
   "version": "3.11.5"
  }
 },
 "nbformat": 4,
 "nbformat_minor": 5
}
