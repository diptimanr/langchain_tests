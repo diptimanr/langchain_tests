{
 "cells": [
  {
   "cell_type": "code",
   "execution_count": null,
   "id": "423e007d-10cb-49e4-8e4b-7f29a802fc54",
   "metadata": {},
   "outputs": [],
   "source": [
    "import sqlalchemy\n",
    "from dotenv import load_dotenv\n",
    "from pandasai.llm.openai import OpenAI\n",
    "from dotenv import load_dotenv\n",
    "from pandasai import SmartDataframe\n",
    "import pandas as pd"
   ]
  },
  {
   "cell_type": "code",
   "execution_count": null,
   "id": "cfea5f02-69c1-4701-a205-1eac6eee0a5a",
   "metadata": {},
   "outputs": [],
   "source": [
    "load_dotenv()"
   ]
  },
  {
   "cell_type": "code",
   "execution_count": null,
   "id": "57279a9a-5695-4550-9d57-5df3df30458d",
   "metadata": {},
   "outputs": [],
   "source": [
    "try:\n",
    "    dburl = 'mysql+mysqlconnector://<USER_ID>:<PASSWORD>@localhost:3306/sakila'\n",
    "    engine = sqlalchemy.create_engine(dburl)\n",
    "except:\n",
    "    engine.dispose()"
   ]
  },
  {
   "cell_type": "code",
   "execution_count": null,
   "id": "77546a51-73c6-42d9-99b9-e09e8060befc",
   "metadata": {},
   "outputs": [],
   "source": [
    "from sqlalchemy.sql import text\n",
    "sql = '''\n",
    "    SELECT * FROM film;\n",
    "'''\n",
    "with engine.connect() as conn:\n",
    "    query = conn.execute(text(sql))\n",
    "    \n",
    "df = pd.DataFrame(query.fetchall())"
   ]
  },
  {
   "cell_type": "code",
   "execution_count": null,
   "id": "3fbb018d-1e3a-4090-96ee-ae7af7c2786a",
   "metadata": {},
   "outputs": [],
   "source": [
    "df.head(5)"
   ]
  },
  {
   "cell_type": "code",
   "execution_count": null,
   "id": "6cf0560a-db88-4b34-afc5-3e623009a25e",
   "metadata": {},
   "outputs": [],
   "source": [
    "llm = OpenAI()\n",
    "smart_df = SmartDataframe(df, config={\"llm\": llm})"
   ]
  },
  {
   "cell_type": "code",
   "execution_count": null,
   "id": "0a1e5d77-a3f4-4855-8091-466bf8b2d06f",
   "metadata": {},
   "outputs": [],
   "source": [
    "smart_df.chat('Which film has the longest rental duration and what is the longest duration?')"
   ]
  },
  {
   "cell_type": "code",
   "execution_count": null,
   "id": "62a8fac0-7263-4247-a41d-ccf5dbd7401e",
   "metadata": {},
   "outputs": [],
   "source": [
    "smart_df.chat('what is the total number of films released in 2006?')"
   ]
  },
  {
   "cell_type": "code",
   "execution_count": null,
   "id": "695650ff-3edb-4df9-a66f-fa8cdc893b53",
   "metadata": {},
   "outputs": [],
   "source": [
    "response = smart_df.chat('Plot the histogram of longest rental durations')"
   ]
  },
  {
   "cell_type": "code",
   "execution_count": null,
   "id": "9de2ad02-f1bb-4870-8dbc-5d872dbf45f9",
   "metadata": {},
   "outputs": [],
   "source": [
    "smart_df.chat('Shape of DataFrame')"
   ]
  },
  {
   "cell_type": "code",
   "execution_count": null,
   "id": "5b03797b-46b6-4d03-94a6-f302f14d3a06",
   "metadata": {},
   "outputs": [],
   "source": [
    "#from pandasai.llm import Falcon"
   ]
  },
  {
   "cell_type": "code",
   "execution_count": null,
   "id": "a02e82a8-91a7-4096-9b4c-f0334a3e6831",
   "metadata": {},
   "outputs": [],
   "source": [
    "# llm = Falcon()\n",
    "# smart_df = SmartDataframe(df, config={\"llm\": llm})"
   ]
  },
  {
   "cell_type": "code",
   "execution_count": null,
   "id": "9c0c6184-12a0-46d3-80c2-d3b237fb7606",
   "metadata": {},
   "outputs": [],
   "source": [
    "# smart_df.chat('Which film has the longest rental duration and what is the longest duration?')"
   ]
  },
  {
   "cell_type": "code",
   "execution_count": null,
   "id": "dec728d6-7c55-4809-b1fe-05705568eaf4",
   "metadata": {},
   "outputs": [],
   "source": [
    "# smart_df.chat('what is the total number of films released in 2006?')"
   ]
  },
  {
   "cell_type": "code",
   "execution_count": null,
   "id": "8d1d922d-742b-44d8-afb1-85712ab5225e",
   "metadata": {},
   "outputs": [],
   "source": [
    "# response = smart_df.chat('Plot the histogram of longest rental durations')"
   ]
  },
  {
   "cell_type": "code",
   "execution_count": null,
   "id": "eb112a61-410d-4a96-b8b2-915f07aab4e6",
   "metadata": {},
   "outputs": [],
   "source": [
    "sql = '''\n",
    "    SELECT * FROM customer;\n",
    "'''\n",
    "with engine.connect() as conn:\n",
    "    query = conn.execute(text(sql))\n",
    "    \n",
    "df_customer = pd.DataFrame(query.fetchall())"
   ]
  },
  {
   "cell_type": "code",
   "execution_count": null,
   "id": "15da87c9-b2dd-4d20-94af-2a9f3c10136d",
   "metadata": {},
   "outputs": [],
   "source": [
    "sql = '''\n",
    "    SELECT * FROM address;\n",
    "'''\n",
    "with engine.connect() as conn:\n",
    "    query = conn.execute(text(sql))\n",
    "    \n",
    "df_address = pd.DataFrame(query.fetchall())"
   ]
  },
  {
   "cell_type": "code",
   "execution_count": null,
   "id": "d04e05e1-6e75-4aeb-b2bc-d70cf0bdc68e",
   "metadata": {},
   "outputs": [],
   "source": [
    "from pandasai import SmartDatalake"
   ]
  },
  {
   "cell_type": "code",
   "execution_count": null,
   "id": "2e19c3d0-e6fb-472c-bd81-62ed19e48ec7",
   "metadata": {},
   "outputs": [],
   "source": [
    "cust_address_df = SmartDatalake([df_customer, df_address], config={\"llm\": llm})"
   ]
  },
  {
   "cell_type": "code",
   "execution_count": null,
   "id": "6c88ce0f-7bf8-41f7-aa18-1a2bb2846d89",
   "metadata": {},
   "outputs": [],
   "source": [
    "response = cust_address_df.chat('Top 5 districts with customers')"
   ]
  },
  {
   "cell_type": "code",
   "execution_count": null,
   "id": "38e31d16-262b-4552-b76b-05b5de1fd31c",
   "metadata": {},
   "outputs": [],
   "source": [
    "print(response)"
   ]
  },
  {
   "cell_type": "code",
   "execution_count": null,
   "id": "a9a70711-7ef5-4df1-88ce-0800371b768b",
   "metadata": {},
   "outputs": [],
   "source": [
    "engine.dispose()"
   ]
  },
  {
   "cell_type": "code",
   "execution_count": null,
   "id": "b3e9ea11-b339-4dd1-bc3b-8adae4fac196",
   "metadata": {},
   "outputs": [],
   "source": []
  }
 ],
 "metadata": {
  "kernelspec": {
   "display_name": "Python 3 (ipykernel)",
   "language": "python",
   "name": "python3"
  },
  "language_info": {
   "codemirror_mode": {
    "name": "ipython",
    "version": 3
   },
   "file_extension": ".py",
   "mimetype": "text/x-python",
   "name": "python",
   "nbconvert_exporter": "python",
   "pygments_lexer": "ipython3",
   "version": "3.11.5"
  }
 },
 "nbformat": 4,
 "nbformat_minor": 5
}
